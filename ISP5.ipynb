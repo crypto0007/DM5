{
 "cells": [
  {
   "cell_type": "code",
   "execution_count": 1,
   "metadata": {},
   "outputs": [],
   "source": [
    "#from sklearn.datasets import load_breast_cancer\n",
    "from id3 import Id3Estimator\n",
    "from id3 import export_graphviz\n",
    "import pandas as pd"
   ]
  },
  {
   "cell_type": "code",
   "execution_count": 2,
   "metadata": {},
   "outputs": [],
   "source": [
    "col_names = ['Outlook', 'Temperature', 'Humidity', 'Wind', 'label']\n",
    "pima = pd.read_csv(\"baseball.csv\", header=None, names=col_names)"
   ]
  },
  {
   "cell_type": "code",
   "execution_count": 3,
   "metadata": {},
   "outputs": [
    {
     "data": {
      "text/plain": [
       "<bound method NDFrame.head of      Outlook  Temperature  Humidity    Wind  label\n",
       "0    Outlook  Temperature  Humidity    Wind  label\n",
       "1      Sunny          Hot      High    Weak      0\n",
       "2      Sunny          Hot      High  Strong      0\n",
       "3   Overcast          Hot      High    Weak      1\n",
       "4       Rain         Mild      High    Weak      1\n",
       "5       Rain         Cool    Normal    Weak      1\n",
       "6       Rain         Cool    Normal  Strong      0\n",
       "7   Overcast         Cool    Normal  Strong      1\n",
       "8      Sunny         Mild      High    Weak      0\n",
       "9      Sunny         Cool    Normal    Weak      1\n",
       "10      Rain         Mild    Normal    Weak      1\n",
       "11     Sunny         Mild    Normal  Strong      1\n",
       "12  Overcast         Mild      High  Strong      1\n",
       "13  Overcast          Hot    Normal    Weak      1\n",
       "14      Rain         Mild      High  Strong      0>"
      ]
     },
     "execution_count": 3,
     "metadata": {},
     "output_type": "execute_result"
    }
   ],
   "source": [
    "pima.head"
   ]
  },
  {
   "cell_type": "code",
   "execution_count": 4,
   "metadata": {},
   "outputs": [],
   "source": [
    "feature_cols = ['Outlook', 'Temperature', 'Humidity', 'Wind']\n",
    "X = pima[feature_cols] # Features\n",
    "y = pima.label # Target variable"
   ]
  },
  {
   "cell_type": "code",
   "execution_count": null,
   "metadata": {},
   "outputs": [],
   "source": []
  }
 ],
 "metadata": {
  "kernelspec": {
   "display_name": "Python 3",
   "language": "python",
   "name": "python3"
  },
  "language_info": {
   "codemirror_mode": {
    "name": "ipython",
    "version": 3
   },
   "file_extension": ".py",
   "mimetype": "text/x-python",
   "name": "python",
   "nbconvert_exporter": "python",
   "pygments_lexer": "ipython3",
   "version": "3.7.1"
  }
 },
 "nbformat": 4,
 "nbformat_minor": 2
}
